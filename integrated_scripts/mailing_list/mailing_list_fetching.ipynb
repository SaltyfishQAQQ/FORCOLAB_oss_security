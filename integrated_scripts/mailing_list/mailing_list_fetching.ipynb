{
 "cells": [
  {
   "cell_type": "code",
   "execution_count": 5,
   "metadata": {},
   "outputs": [],
   "source": [
    "import requests\n",
    "import time\n",
    "import os\n",
    "\n",
    "\n"
   ]
  },
  {
   "cell_type": "markdown",
   "metadata": {},
   "source": [
    "**Collecting all messages from 2021-04-28 to 2024-03-31**"
   ]
  },
  {
   "cell_type": "code",
   "execution_count": 6,
   "metadata": {},
   "outputs": [],
   "source": [
    "for thread_id in range(400, 695):\n",
    "    url = f\"https://www.mail-archive.com/xz-devel@tukaani.org/msg00{thread_id}.html\"\n",
    "    filename = f\"all_messages/msg00{thread_id}.html\"\n",
    "    if not os.path.exists(filename):\n",
    "        while True:\n",
    "            try:\n",
    "                print(f\"Attempting to download: {url}\")\n",
    "                response = requests.get(url, timeout=30)  # optional: set a timeout\n",
    "                response.raise_for_status()  # raise HTTPError if not 200 OK\n",
    "                # If no exception, the download succeeded\n",
    "                break\n",
    "            except requests.exceptions.RequestException as e:\n",
    "                print(f\"Error downloading {url}: {e}\")\n",
    "                print(\"Retrying in 1 seconds...\")\n",
    "                time.sleep(1)\n",
    "        \n",
    "        # Save the content\n",
    "        filename = f\"all_messages/msg00{thread_id}.html\"\n",
    "        with open(filename, \"wb\") as file:\n",
    "            file.write(response.content)\n",
    "        print(f\"Saved: {filename}\")\n",
    "    "
   ]
  },
  {
   "cell_type": "code",
   "execution_count": null,
   "metadata": {},
   "outputs": [],
   "source": []
  }
 ],
 "metadata": {
  "kernelspec": {
   "display_name": "venv",
   "language": "python",
   "name": "python3"
  },
  "language_info": {
   "codemirror_mode": {
    "name": "ipython",
    "version": 3
   },
   "file_extension": ".py",
   "mimetype": "text/x-python",
   "name": "python",
   "nbconvert_exporter": "python",
   "pygments_lexer": "ipython3",
   "version": "3.10.11"
  }
 },
 "nbformat": 4,
 "nbformat_minor": 2
}
