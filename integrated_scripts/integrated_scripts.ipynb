{
 "cells": [
  {
   "cell_type": "code",
   "execution_count": 11,
   "id": "3283120e-8e04-4817-ae19-01c612d43d90",
   "metadata": {},
   "outputs": [],
   "source": [
    "import github_fetching as fetcher\n",
    "import data_cleaning as cleaner\n",
    "import sentiment_analysis as analyzer\n",
    "import visualization as visualizer\n",
    "import embedding_gen as embedder\n",
    "import pandas as pd\n",
    "import matplotlib.pyplot as plt\n",
    "from IPython.display import display, HTML, IFrame\n",
    "import node2vec\n"
   ]
  },
  {
   "cell_type": "code",
   "execution_count": 2,
   "id": "7ea22a2a-c48d-43d0-82c4-df3e432576c4",
   "metadata": {},
   "outputs": [],
   "source": [
    "xz_folder = 'tukaani-project_xz/'"
   ]
  },
  {
   "cell_type": "code",
   "execution_count": 3,
   "id": "c9d89b29-f483-43cc-98b7-110eb2b6260b",
   "metadata": {},
   "outputs": [
    {
     "name": "stdout",
     "output_type": "stream",
     "text": [
      "Fetching Issues and PRs for tukaani-project/xz\n",
      "Total 45 issue fetched\n",
      "Total 40 pr fetched\n",
      "----------------------------------------------\n",
      "Data Cleaning in Progress\n",
      "Total 85 files cleaned\n",
      "----------------------------------------------\n"
     ]
    }
   ],
   "source": [
    "issue_pr_location = fetcher.fetch_issues_pr(folder_location = xz_folder)\n",
    "cleaner.clean_thread(issue_pr_location)"
   ]
  },
  {
   "cell_type": "code",
   "execution_count": 4,
   "id": "f11d5b4d-7ee5-4bf0-96e0-736369a1f67b",
   "metadata": {},
   "outputs": [
    {
     "name": "stdout",
     "output_type": "stream",
     "text": [
      "Running thread-level sentiment analysis...\n",
      "Thread-level sentiment analysis done on 85 posts.\n",
      "----------------------------------------------\n",
      "Now cleaning user interactions...\n",
      "Done cleaning for user interactions\n",
      "----------------------------------------------\n",
      "Now fetching GitHub usernames\n",
      "Done GitHub username fetching\n",
      "Cleaned user interactions saved.\n",
      "----------------------------------------------\n",
      "Now constructing individual conversations\n",
      "Skipping file Luis_Carilla_Ternero_to_Ari_Archer_(migrated_to_https://git.ari.lt/ari).csv due to error: Protocol not known: tukaani-project_xz/individual_conversations\\Luis_Carilla_Ternero_to_Ari_Archer_(migrated_to_https\n",
      "Skipping file Ari_Archer_(migrated_to_https://git.ari.lt/ari)_to_Luis_Carilla_Ternero.csv due to error: Protocol not known: tukaani-project_xz/individual_conversations\\Ari_Archer_(migrated_to_https\n",
      "Skipping file Ari_Archer_(migrated_to_https://git.ari.lt/ari)_to_Tuukka_Rouhiainen.csv due to error: Protocol not known: tukaani-project_xz/individual_conversations\\Ari_Archer_(migrated_to_https\n",
      "Individual CSV files have been created.\n",
      "Done constructing individual conversations.\n",
      "----------------------------------------------\n"
     ]
    }
   ],
   "source": [
    "post_sentiment_results, user_interactions = analyzer.sentiment_analysis()"
   ]
  },
  {
   "cell_type": "code",
   "execution_count": 5,
   "id": "bfc89ded-7dc8-4747-b373-b4b14ff89316",
   "metadata": {},
   "outputs": [
    {
     "name": "stdout",
     "output_type": "stream",
     "text": [
      "Generating network graph with user interactions...\n",
      "Warning: When  cdn_resources is 'local' jupyter notebook has issues displaying graphics on chrome/safari. Use cdn_resources='in_line' or cdn_resources='remote' if you have issues viewing graphics in a notebook.\n",
      "Network saved to tukaani-project_xz/network_graph.html\n",
      "----------------------------------------------\n"
     ]
    }
   ],
   "source": [
    "user_interactions = pd.DataFrame(user_interactions)\n",
    "graph_path = visualizer.generate_network(xz_folder, user_interactions, 'network_graph.html', 0)"
   ]
  },
  {
   "cell_type": "code",
   "execution_count": 6,
   "id": "f1282326-366c-430a-b0c4-106864fd1f04",
   "metadata": {},
   "outputs": [
    {
     "data": {
      "image/png": "[encoded data removed]",
      "text/plain": [
       "<Figure size 640x480 with 1 Axes>"
      ]
     },
     "metadata": {},
     "output_type": "display_data"
    }
   ],
   "source": [
    "visualizer.post_analysis_visualization(post_sentiment_results)"
   ]
  },
  {
   "cell_type": "code",
   "execution_count": 7,
   "id": "6732fd8a-ccef-45d8-a5e3-3c2c6fba1d65",
   "metadata": {},
   "outputs": [
    {
     "data": {
      "text/html": [
       "\n",
       "        <iframe\n",
       "            width=\"100%\"\n",
       "            height=\"750px\"\n",
       "            src=\"tukaani-project_xz/network_graph.html\"\n",
       "            frameborder=\"0\"\n",
       "            allowfullscreen\n",
       "            \n",
       "        ></iframe>\n",
       "        "
      ],
      "text/plain": [
       "<IPython.lib.display.IFrame at 0x1f8519c2140>"
      ]
     },
     "metadata": {},
     "output_type": "display_data"
    }
   ],
   "source": [
    "visualizer.show_graph(graph_path)"
   ]
  },
  {
   "cell_type": "code",
   "execution_count": 8,
   "id": "de82af42",
   "metadata": {},
   "outputs": [],
   "source": [
    "# Step 1: Create the graph\n",
    "graph = embedder.create_graphs_from_interactions(user_interactions)\n",
    "\n",
    "# Step 2: Compute embeddings with original names preserved\n",
    "graph_embeddings, node_to_int, int_to_node = embedder.compute_graph_embeddings(graph)"
   ]
  },
  {
   "cell_type": "code",
   "execution_count": 9,
   "id": "4e61eb07",
   "metadata": {},
   "outputs": [
    {
     "data": {
      "text/html": [
       "<div>\n",
       "<style scoped>\n",
       "    .dataframe tbody tr th:only-of-type {\n",
       "        vertical-align: middle;\n",
       "    }\n",
       "\n",
       "    .dataframe tbody tr th {\n",
       "        vertical-align: top;\n",
       "    }\n",
       "\n",
       "    .dataframe thead th {\n",
       "        text-align: right;\n",
       "    }\n",
       "</style>\n",
       "<table border=\"1\" class=\"dataframe\">\n",
       "  <thead>\n",
       "    <tr style=\"text-align: right;\">\n",
       "      <th></th>\n",
       "      <th>0</th>\n",
       "      <th>1</th>\n",
       "      <th>2</th>\n",
       "      <th>3</th>\n",
       "      <th>4</th>\n",
       "      <th>5</th>\n",
       "      <th>6</th>\n",
       "      <th>7</th>\n",
       "      <th>8</th>\n",
       "      <th>9</th>\n",
       "      <th>...</th>\n",
       "      <th>118</th>\n",
       "      <th>119</th>\n",
       "      <th>120</th>\n",
       "      <th>121</th>\n",
       "      <th>122</th>\n",
       "      <th>123</th>\n",
       "      <th>124</th>\n",
       "      <th>125</th>\n",
       "      <th>126</th>\n",
       "      <th>127</th>\n",
       "    </tr>\n",
       "  </thead>\n",
       "  <tbody>\n",
       "    <tr>\n",
       "      <th>0</th>\n",
       "      <td>0.006594</td>\n",
       "      <td>0.007729</td>\n",
       "      <td>0.006589</td>\n",
       "      <td>-0.006326</td>\n",
       "      <td>-0.007004</td>\n",
       "      <td>-0.003737</td>\n",
       "      <td>-0.003535</td>\n",
       "      <td>0.0038</td>\n",
       "      <td>-0.005501</td>\n",
       "      <td>-0.006979</td>\n",
       "      <td>...</td>\n",
       "      <td>0.003634</td>\n",
       "      <td>-0.005143</td>\n",
       "      <td>0.002259</td>\n",
       "      <td>0.002895</td>\n",
       "      <td>0.001263</td>\n",
       "      <td>0.007641</td>\n",
       "      <td>-0.001246</td>\n",
       "      <td>0.005238</td>\n",
       "      <td>0.003133</td>\n",
       "      <td>0.005362</td>\n",
       "    </tr>\n",
       "  </tbody>\n",
       "</table>\n",
       "<p>1 rows × 128 columns</p>\n",
       "</div>"
      ],
      "text/plain": [
       "        0         1         2         3         4         5         6    \\\n",
       "0  0.006594  0.007729  0.006589 -0.006326 -0.007004 -0.003737 -0.003535   \n",
       "\n",
       "      7         8         9    ...       118       119       120       121  \\\n",
       "0  0.0038 -0.005501 -0.006979  ...  0.003634 -0.005143  0.002259  0.002895   \n",
       "\n",
       "        122       123       124       125       126       127  \n",
       "0  0.001263  0.007641 -0.001246  0.005238  0.003133  0.005362  \n",
       "\n",
       "[1 rows x 128 columns]"
      ]
     },
     "execution_count": 9,
     "metadata": {},
     "output_type": "execute_result"
    }
   ],
   "source": [
    "graph_embeddings = pd.DataFrame(graph_embeddings)\n",
    "graph_embeddings"
   ]
  },
  {
   "cell_type": "code",
   "execution_count": 12,
   "id": "69ad24cb",
   "metadata": {},
   "outputs": [
    {
     "ename": "NameError",
     "evalue": "name 'Node2Vec' is not defined",
     "output_type": "error",
     "traceback": [
      "\u001b[1;31m---------------------------------------------------------------------------\u001b[0m",
      "\u001b[1;31mNameError\u001b[0m                                 Traceback (most recent call last)",
      "Cell \u001b[1;32mIn[12], line 2\u001b[0m\n\u001b[0;32m      1\u001b[0m \u001b[38;5;66;03m# Step 3: Calculate node embeddings\u001b[39;00m\n\u001b[1;32m----> 2\u001b[0m node_embeddings \u001b[38;5;241m=\u001b[39m \u001b[43membedder\u001b[49m\u001b[38;5;241;43m.\u001b[39;49m\u001b[43mcalculate_node_embeddings\u001b[49m\u001b[43m(\u001b[49m\u001b[43mgraph\u001b[49m\u001b[43m[\u001b[49m\u001b[38;5;241;43m0\u001b[39;49m\u001b[43m]\u001b[49m\u001b[43m)\u001b[49m  \u001b[38;5;66;03m# No relabeling for Node2Vec\u001b[39;00m\n\u001b[0;32m      4\u001b[0m \u001b[38;5;66;03m# Step 4: Perform clustering\u001b[39;00m\n\u001b[0;32m      5\u001b[0m node_clusters, embeddings, labels, node_list \u001b[38;5;241m=\u001b[39m embedder\u001b[38;5;241m.\u001b[39mcluster_node_embeddings(node_embeddings, clusters\u001b[38;5;241m=\u001b[39m\u001b[38;5;241m3\u001b[39m)\n",
      "File \u001b[1;32mc:\\Users\\yhlin\\oss_security\\integrated_scripts\\embedding_gen.py:87\u001b[0m, in \u001b[0;36mcalculate_node_embeddings\u001b[1;34m(graph, dimensions, walk_length, num_walks)\u001b[0m\n\u001b[0;32m     74\u001b[0m \u001b[38;5;250m\u001b[39m\u001b[38;5;124;03m\"\"\"\u001b[39;00m\n\u001b[0;32m     75\u001b[0m \u001b[38;5;124;03mCalculates node embeddings using Node2Vec.\u001b[39;00m\n\u001b[0;32m     76\u001b[0m \n\u001b[1;32m   (...)\u001b[0m\n\u001b[0;32m     84\u001b[0m \u001b[38;5;124;03m    dict: A mapping of node names to their embeddings.\u001b[39;00m\n\u001b[0;32m     85\u001b[0m \u001b[38;5;124;03m\"\"\"\u001b[39;00m\n\u001b[0;32m     86\u001b[0m \u001b[38;5;66;03m# run Node2Vec to generate node embeddings\u001b[39;00m\n\u001b[1;32m---> 87\u001b[0m node2vec \u001b[38;5;241m=\u001b[39m \u001b[43mNode2Vec\u001b[49m(graph, dimensions\u001b[38;5;241m=\u001b[39mdimensions, walk_length\u001b[38;5;241m=\u001b[39mwalk_length, num_walks\u001b[38;5;241m=\u001b[39mnum_walks, weight_key\u001b[38;5;241m=\u001b[39m\u001b[38;5;124m'\u001b[39m\u001b[38;5;124mweight\u001b[39m\u001b[38;5;124m'\u001b[39m)\n\u001b[0;32m     88\u001b[0m model \u001b[38;5;241m=\u001b[39m node2vec\u001b[38;5;241m.\u001b[39mfit()\n\u001b[0;32m     90\u001b[0m \u001b[38;5;66;03m# extract embeddings as a dictionary {node: embedding}\u001b[39;00m\n",
      "\u001b[1;31mNameError\u001b[0m: name 'Node2Vec' is not defined"
     ]
    }
   ],
   "source": [
    "# Step 3: Calculate node embeddings\n",
    "node_embeddings = embedder.calculate_node_embeddings(graph[0])  # No relabeling for Node2Vec\n",
    "\n",
    "# Step 4: Perform clustering\n",
    "node_clusters, embeddings, labels, node_list = embedder.cluster_node_embeddings(node_embeddings, clusters=3)\n",
    "\n",
    "# Step 5: Visualize clusters with original names\n",
    "embedder.visualize_clusters(embeddings, labels, node_list, int_to_node=int_to_node)"
   ]
  },
  {
   "cell_type": "code",
   "execution_count": null,
   "id": "acc92b2f",
   "metadata": {},
   "outputs": [],
   "source": []
  }
 ],
 "metadata": {
  "kernelspec": {
   "display_name": "venv",
   "language": "python",
   "name": "python3"
  },
  "language_info": {
   "codemirror_mode": {
    "name": "ipython",
    "version": 3
   },
   "file_extension": ".py",
   "mimetype": "text/x-python",
   "name": "python",
   "nbconvert_exporter": "python",
   "pygments_lexer": "ipython3",
   "version": "3.10.11"
  }
 },
 "nbformat": 4,
 "nbformat_minor": 5
}
