{
 "cells": [
  {
   "cell_type": "code",
   "execution_count": 6,
   "id": "3283120e-8e04-4817-ae19-01c612d43d90",
   "metadata": {},
   "outputs": [],
   "source": [
    "import github_fetching as fetcher\n",
    "import data_cleaning as cleaner\n",
    "import sentiment_analysis as analyzer\n",
    "import visualization as visualizer\n",
    "import pandas as pd\n",
    "import matplotlib.pyplot as plt\n",
    "from IPython.display import display, HTML, IFrame"
   ]
  },
  {
   "cell_type": "code",
   "execution_count": 7,
   "id": "7ea22a2a-c48d-43d0-82c4-df3e432576c4",
   "metadata": {},
   "outputs": [],
   "source": [
    "xz_folder = 'tukaani-project_xz/'"
   ]
  },
  {
   "cell_type": "code",
   "execution_count": 8,
   "id": "c9d89b29-f483-43cc-98b7-110eb2b6260b",
   "metadata": {},
   "outputs": [
    {
     "name": "stdout",
     "output_type": "stream",
     "text": [
      "Fetching Issues and PRs for tukaani-project/xz\n",
      "\n",
      "Total 45 issue fetched\n",
      "\n",
      "Total 40 pr fetched\n",
      "\n",
      "Data Cleaning in Progress\n",
      "\n",
      "Total 85 files cleaned\n",
      "\n"
     ]
    }
   ],
   "source": [
    "issue_pr_location = fetcher.fetch_issues_pr(folder_location = xz_folder)\n",
    "cleaner.clean_thread(issue_pr_location)"
   ]
  },
  {
   "cell_type": "code",
   "execution_count": 9,
   "id": "fb03ddf0-237c-42a6-bbe9-34e1a85d19c6",
   "metadata": {},
   "outputs": [
    {
     "name": "stdout",
     "output_type": "stream",
     "text": [
      "              count\n",
      "count    178.000000\n",
      "mean     371.915730\n",
      "std     1452.190891\n",
      "min        1.000000\n",
      "25%       20.000000\n",
      "50%       65.000000\n",
      "75%      226.000000\n",
      "max    14968.000000\n"
     ]
    },
    {
     "data": {
      "text/html": [
       "<div>\n",
       "<style scoped>\n",
       "    .dataframe tbody tr th:only-of-type {\n",
       "        vertical-align: middle;\n",
       "    }\n",
       "\n",
       "    .dataframe tbody tr th {\n",
       "        vertical-align: top;\n",
       "    }\n",
       "\n",
       "    .dataframe thead th {\n",
       "        text-align: right;\n",
       "    }\n",
       "</style>\n",
       "<table border=\"1\" class=\"dataframe\">\n",
       "  <thead>\n",
       "    <tr style=\"text-align: right;\">\n",
       "      <th></th>\n",
       "      <th>from</th>\n",
       "      <th>count</th>\n",
       "    </tr>\n",
       "  </thead>\n",
       "  <tbody>\n",
       "    <tr>\n",
       "      <th>10</th>\n",
       "      <td>Larhzu</td>\n",
       "      <td>14968</td>\n",
       "    </tr>\n",
       "    <tr>\n",
       "      <th>41</th>\n",
       "      <td>JiaT75</td>\n",
       "      <td>11517</td>\n",
       "    </tr>\n",
       "    <tr>\n",
       "      <th>149</th>\n",
       "      <td>hansjans162</td>\n",
       "      <td>2714</td>\n",
       "    </tr>\n",
       "    <tr>\n",
       "      <th>168</th>\n",
       "      <td>skosukhin</td>\n",
       "      <td>2614</td>\n",
       "    </tr>\n",
       "    <tr>\n",
       "      <th>75</th>\n",
       "      <td>abcfy2</td>\n",
       "      <td>1870</td>\n",
       "    </tr>\n",
       "    <tr>\n",
       "      <th>...</th>\n",
       "      <td>...</td>\n",
       "      <td>...</td>\n",
       "    </tr>\n",
       "    <tr>\n",
       "      <th>121</th>\n",
       "      <td>Kamillaova</td>\n",
       "      <td>1</td>\n",
       "    </tr>\n",
       "    <tr>\n",
       "      <th>143</th>\n",
       "      <td>vtorri</td>\n",
       "      <td>1</td>\n",
       "    </tr>\n",
       "    <tr>\n",
       "      <th>141</th>\n",
       "      <td>AlejandroBarreda</td>\n",
       "      <td>1</td>\n",
       "    </tr>\n",
       "    <tr>\n",
       "      <th>131</th>\n",
       "      <td>CaptainFallaway</td>\n",
       "      <td>1</td>\n",
       "    </tr>\n",
       "    <tr>\n",
       "      <th>150</th>\n",
       "      <td>rashadgasimli</td>\n",
       "      <td>1</td>\n",
       "    </tr>\n",
       "  </tbody>\n",
       "</table>\n",
       "<p>178 rows × 2 columns</p>\n",
       "</div>"
      ],
      "text/plain": [
       "                 from  count\n",
       "10             Larhzu  14968\n",
       "41             JiaT75  11517\n",
       "149       hansjans162   2714\n",
       "168         skosukhin   2614\n",
       "75             abcfy2   1870\n",
       "..                ...    ...\n",
       "121        Kamillaova      1\n",
       "143            vtorri      1\n",
       "141  AlejandroBarreda      1\n",
       "131   CaptainFallaway      1\n",
       "150     rashadgasimli      1\n",
       "\n",
       "[178 rows x 2 columns]"
      ]
     },
     "execution_count": 9,
     "metadata": {},
     "output_type": "execute_result"
    }
   ],
   "source": [
    "contribution_df = cleaner.calculate_author_contributions()\n",
    "print(contribution_df.describe())\n",
    "contribution_df"
   ]
  },
  {
   "cell_type": "code",
   "execution_count": 10,
   "id": "e948d4a3-81fd-4257-936c-8061224a060c",
   "metadata": {},
   "outputs": [
    {
     "name": "stdout",
     "output_type": "stream",
     "text": [
      "Running post-level sentiment analysis...\n",
      "Post-level sentiment analysis done on 85 posts.\n"
     ]
    }
   ],
   "source": [
    "post_sentiment_results = analyzer.post_sentiment_analysis()"
   ]
  },
  {
   "cell_type": "code",
   "execution_count": 11,
   "id": "f11d5b4d-7ee5-4bf0-96e0-736369a1f67b",
   "metadata": {},
   "outputs": [
    {
     "name": "stdout",
     "output_type": "stream",
     "text": [
      "Running sentence-level sentiment analysis...\n",
      "Sentence-level sentiment analysis done on 85 posts.\n",
      "\n",
      "Now cleaning user interactions...\n",
      "Done cleaning for user interactions\n",
      "Now fetching GitHub usernames\n",
      "Error: Unable to fetch data for username 'mvatsyk'. Status code: 404\n",
      "Error: Unable to fetch data for username '57464bb4ebd6c0'. Status code: 404\n",
      "Error: Unable to fetch data for username 'XZ_5'. Status code: 404\n",
      "Error: Unable to fetch data for username 'mvatsyk'. Status code: 404\n",
      "Error: Unable to fetch data for username 'lists'. Status code: 404\n",
      "Error: Unable to fetch data for username 'XZ_5'. Status code: 404\n",
      "Error: Unable to fetch data for username 'BAR_1'. Status code: 404\n",
      "Error: Unable to fetch data for username 'XZ_5'. Status code: 404\n",
      "Error: Unable to fetch data for username 'awork3'. Status code: 404\n",
      "Error: Unable to fetch data for username 'XZ_5'. Status code: 404\n",
      "Error: Unable to fetch data for username 'lzma_decode'. Status code: 404\n",
      "Error: Unable to fetch data for username 'vfazio2'. Status code: 404\n",
      "Done GitHub username fetching\n",
      "\n",
      "Now constructing individual conversations\n",
      "Skipping file Ari_Archer_(migrated_to_https://git.ari.lt/ari)_to_Luis_Carilla_Ternero.csv due to error: Cannot save file into a non-existent directory: 'tukaani-project_xz\\individual_conversations\\Ari_Archer_(migrated_to_https:\\git.ari.lt'\n",
      "Skipping file Ari_Archer_(migrated_to_https://git.ari.lt/ari)_to_Tuukka_Rouhiainen.csv due to error: Cannot save file into a non-existent directory: 'tukaani-project_xz\\individual_conversations\\Ari_Archer_(migrated_to_https:\\git.ari.lt'\n",
      "Skipping file Luis_Carilla_Ternero_to_Ari_Archer_(migrated_to_https://git.ari.lt/ari).csv due to error: Cannot save file into a non-existent directory: 'tukaani-project_xz\\individual_conversations\\Luis_Carilla_Ternero_to_Ari_Archer_(migrated_to_https:\\git.ari.lt'\n",
      "Individual CSV files have been created.\n"
     ]
    }
   ],
   "source": [
    "user_interactions = analyzer.sentence_sentiment_analysis()"
   ]
  },
  {
   "cell_type": "code",
   "execution_count": 12,
   "id": "bfc89ded-7dc8-4747-b373-b4b14ff89316",
   "metadata": {},
   "outputs": [
    {
     "name": "stdout",
     "output_type": "stream",
     "text": [
      "Warning: When  cdn_resources is 'local' jupyter notebook has issues displaying graphics on chrome/safari. Use cdn_resources='in_line' or cdn_resources='remote' if you have issues viewing graphics in a notebook.\n",
      "Network saved to tukaani-project_xz/network_graph.html\n"
     ]
    }
   ],
   "source": [
    "user_interactions = pd.DataFrame(user_interactions)\n",
    "graph_path = visualizer.generate_network(xz_folder, user_interactions, 'network_graph.html', 1)"
   ]
  },
  {
   "cell_type": "code",
   "execution_count": 13,
   "id": "f1282326-366c-430a-b0c4-106864fd1f04",
   "metadata": {},
   "outputs": [
    {
     "data": {
      "image/png": "[encoded data removed]",
      "text/plain": [
       "<Figure size 640x480 with 1 Axes>"
      ]
     },
     "metadata": {},
     "output_type": "display_data"
    }
   ],
   "source": [
    "visualizer.post_analysis_visualization(post_sentiment_results)"
   ]
  },
  {
   "cell_type": "code",
   "execution_count": 14,
   "id": "6732fd8a-ccef-45d8-a5e3-3c2c6fba1d65",
   "metadata": {},
   "outputs": [
    {
     "data": {
      "text/html": [
       "\n",
       "        <iframe\n",
       "            width=\"100%\"\n",
       "            height=\"750px\"\n",
       "            src=\"tukaani-project_xz/network_graph.html\"\n",
       "            frameborder=\"0\"\n",
       "            allowfullscreen\n",
       "            \n",
       "        ></iframe>\n",
       "        "
      ],
      "text/plain": [
       "<IPython.lib.display.IFrame at 0x1826f90a5e0>"
      ]
     },
     "metadata": {},
     "output_type": "display_data"
    }
   ],
   "source": [
    "visualizer.show_graph(graph_path)"
   ]
  },
  {
   "cell_type": "code",
   "execution_count": 15,
   "id": "a5cad2ea-9ccd-4d26-802a-1f35fc4f361f",
   "metadata": {},
   "outputs": [
    {
     "name": "stdout",
     "output_type": "stream",
     "text": [
      "Filtered commits saved to tukaani-project_xz/commits_info.csv\n"
     ]
    }
   ],
   "source": [
    "commit_df = fetcher.fetch_commit_info(folder_location = xz_folder)\n",
    "top_committers = fetcher.get_top_committers(commit_df)"
   ]
  },
  {
   "cell_type": "code",
   "execution_count": 16,
   "id": "9f95b623-6455-4b0a-9fb2-b9da2fd568aa",
   "metadata": {},
   "outputs": [
    {
     "data": {
      "text/html": [
       "<div>\n",
       "<style scoped>\n",
       "    .dataframe tbody tr th:only-of-type {\n",
       "        vertical-align: middle;\n",
       "    }\n",
       "\n",
       "    .dataframe tbody tr th {\n",
       "        vertical-align: top;\n",
       "    }\n",
       "\n",
       "    .dataframe thead th {\n",
       "        text-align: right;\n",
       "    }\n",
       "</style>\n",
       "<table border=\"1\" class=\"dataframe\">\n",
       "  <thead>\n",
       "    <tr style=\"text-align: right;\">\n",
       "      <th></th>\n",
       "      <th>author_name</th>\n",
       "      <th>commit_count</th>\n",
       "    </tr>\n",
       "  </thead>\n",
       "  <tbody>\n",
       "    <tr>\n",
       "      <th>21</th>\n",
       "      <td>Lasse Collin</td>\n",
       "      <td>865</td>\n",
       "    </tr>\n",
       "    <tr>\n",
       "      <th>17</th>\n",
       "      <td>Jia Tan</td>\n",
       "      <td>450</td>\n",
       "    </tr>\n",
       "    <tr>\n",
       "      <th>26</th>\n",
       "      <td>Sam James</td>\n",
       "      <td>14</td>\n",
       "    </tr>\n",
       "    <tr>\n",
       "      <th>22</th>\n",
       "      <td>Maksym Vatsyk</td>\n",
       "      <td>5</td>\n",
       "    </tr>\n",
       "    <tr>\n",
       "      <th>13</th>\n",
       "      <td>Hans Jansen</td>\n",
       "      <td>5</td>\n",
       "    </tr>\n",
       "    <tr>\n",
       "      <th>19</th>\n",
       "      <td>Kelvin Lee</td>\n",
       "      <td>5</td>\n",
       "    </tr>\n",
       "    <tr>\n",
       "      <th>18</th>\n",
       "      <td>Julien Marrec</td>\n",
       "      <td>3</td>\n",
       "    </tr>\n",
       "    <tr>\n",
       "      <th>11</th>\n",
       "      <td>Gabriela Gutierrez</td>\n",
       "      <td>3</td>\n",
       "    </tr>\n",
       "    <tr>\n",
       "      <th>5</th>\n",
       "      <td>Bjarni Ingi Gislason</td>\n",
       "      <td>3</td>\n",
       "    </tr>\n",
       "    <tr>\n",
       "      <th>20</th>\n",
       "      <td>Kian-Meng Ang</td>\n",
       "      <td>2</td>\n",
       "    </tr>\n",
       "  </tbody>\n",
       "</table>\n",
       "</div>"
      ],
      "text/plain": [
       "             author_name  commit_count\n",
       "21          Lasse Collin           865\n",
       "17               Jia Tan           450\n",
       "26             Sam James            14\n",
       "22         Maksym Vatsyk             5\n",
       "13           Hans Jansen             5\n",
       "19            Kelvin Lee             5\n",
       "18         Julien Marrec             3\n",
       "11    Gabriela Gutierrez             3\n",
       "5   Bjarni Ingi Gislason             3\n",
       "20         Kian-Meng Ang             2"
      ]
     },
     "execution_count": 16,
     "metadata": {},
     "output_type": "execute_result"
    }
   ],
   "source": [
    "top_committers"
   ]
  },
  {
   "cell_type": "code",
   "execution_count": 17,
   "id": "27d2c27e-b06d-4257-8ef3-0501300c1f35",
   "metadata": {},
   "outputs": [],
   "source": [
    "sentiment_df = analyzer.track_sentiment_given_and_received(user_interaction_df=user_interactions)"
   ]
  },
  {
   "cell_type": "code",
   "execution_count": 18,
   "id": "b36743b1-30d8-4780-8bde-9f94d83670b7",
   "metadata": {},
   "outputs": [],
   "source": [
    "threat_df = analyzer.identify_threat(sentiment_df, top_committers)"
   ]
  },
  {
   "cell_type": "code",
   "execution_count": 19,
   "id": "088ae41a-acb4-4996-abad-c4a549dcf53e",
   "metadata": {},
   "outputs": [
    {
     "data": {
      "text/html": [
       "<div>\n",
       "<style scoped>\n",
       "    .dataframe tbody tr th:only-of-type {\n",
       "        vertical-align: middle;\n",
       "    }\n",
       "\n",
       "    .dataframe tbody tr th {\n",
       "        vertical-align: top;\n",
       "    }\n",
       "\n",
       "    .dataframe thead th {\n",
       "        text-align: right;\n",
       "    }\n",
       "</style>\n",
       "<table border=\"1\" class=\"dataframe\">\n",
       "  <thead>\n",
       "    <tr style=\"text-align: right;\">\n",
       "      <th></th>\n",
       "      <th>user</th>\n",
       "      <th>sentiment_received</th>\n",
       "      <th>sentiment_given</th>\n",
       "      <th>commit_count</th>\n",
       "    </tr>\n",
       "  </thead>\n",
       "  <tbody>\n",
       "    <tr>\n",
       "      <th>6</th>\n",
       "      <td>Sam James</td>\n",
       "      <td>-0.069806</td>\n",
       "      <td>-0.091606</td>\n",
       "      <td>14</td>\n",
       "    </tr>\n",
       "    <tr>\n",
       "      <th>5</th>\n",
       "      <td>Lasse Collin</td>\n",
       "      <td>0.166472</td>\n",
       "      <td>0.065690</td>\n",
       "      <td>865</td>\n",
       "    </tr>\n",
       "    <tr>\n",
       "      <th>2</th>\n",
       "      <td>Jia Tan</td>\n",
       "      <td>0.221388</td>\n",
       "      <td>0.363748</td>\n",
       "      <td>450</td>\n",
       "    </tr>\n",
       "    <tr>\n",
       "      <th>3</th>\n",
       "      <td>Kelvin Lee</td>\n",
       "      <td>0.303849</td>\n",
       "      <td>0.159459</td>\n",
       "      <td>5</td>\n",
       "    </tr>\n",
       "    <tr>\n",
       "      <th>4</th>\n",
       "      <td>Kian-Meng Ang</td>\n",
       "      <td>0.335396</td>\n",
       "      <td>0.291878</td>\n",
       "      <td>2</td>\n",
       "    </tr>\n",
       "  </tbody>\n",
       "</table>\n",
       "</div>"
      ],
      "text/plain": [
       "            user  sentiment_received  sentiment_given  commit_count\n",
       "6      Sam James           -0.069806        -0.091606            14\n",
       "5   Lasse Collin            0.166472         0.065690           865\n",
       "2        Jia Tan            0.221388         0.363748           450\n",
       "3     Kelvin Lee            0.303849         0.159459             5\n",
       "4  Kian-Meng Ang            0.335396         0.291878             2"
      ]
     },
     "execution_count": 19,
     "metadata": {},
     "output_type": "execute_result"
    }
   ],
   "source": [
    "threat_df"
   ]
  },
  {
   "cell_type": "code",
   "execution_count": 20,
   "id": "80ffdf16-5870-4860-8b2d-b40708cce35c",
   "metadata": {},
   "outputs": [],
   "source": [
    "sentiment_df = sentiment_df[['user', 'sentiment_received', 'sentiment_given']]"
   ]
  },
  {
   "cell_type": "code",
   "execution_count": 21,
   "id": "f5be0ab0-ca0d-4904-b4fb-67b3fa2b0cbb",
   "metadata": {},
   "outputs": [
    {
     "data": {
      "text/html": [
       "<div>\n",
       "<style scoped>\n",
       "    .dataframe tbody tr th:only-of-type {\n",
       "        vertical-align: middle;\n",
       "    }\n",
       "\n",
       "    .dataframe tbody tr th {\n",
       "        vertical-align: top;\n",
       "    }\n",
       "\n",
       "    .dataframe thead th {\n",
       "        text-align: right;\n",
       "    }\n",
       "</style>\n",
       "<table border=\"1\" class=\"dataframe\">\n",
       "  <thead>\n",
       "    <tr style=\"text-align: right;\">\n",
       "      <th></th>\n",
       "      <th>user</th>\n",
       "      <th>sentiment_received</th>\n",
       "      <th>sentiment_given</th>\n",
       "    </tr>\n",
       "  </thead>\n",
       "  <tbody>\n",
       "    <tr>\n",
       "      <th>0</th>\n",
       "      <td>57464bb4ebd6c0</td>\n",
       "      <td>-0.125374</td>\n",
       "      <td>0.000000</td>\n",
       "    </tr>\n",
       "    <tr>\n",
       "      <th>1</th>\n",
       "      <td>Abdurrahim Cakar</td>\n",
       "      <td>-0.069116</td>\n",
       "      <td>0.000000</td>\n",
       "    </tr>\n",
       "    <tr>\n",
       "      <th>2</th>\n",
       "      <td>Aeterne Satiatus</td>\n",
       "      <td>-0.071130</td>\n",
       "      <td>-0.262508</td>\n",
       "    </tr>\n",
       "    <tr>\n",
       "      <th>3</th>\n",
       "      <td>Agostino Sarubbo</td>\n",
       "      <td>-0.147563</td>\n",
       "      <td>-0.351754</td>\n",
       "    </tr>\n",
       "    <tr>\n",
       "      <th>4</th>\n",
       "      <td>Alcaro</td>\n",
       "      <td>-0.612008</td>\n",
       "      <td>-0.084132</td>\n",
       "    </tr>\n",
       "    <tr>\n",
       "      <th>...</th>\n",
       "      <td>...</td>\n",
       "      <td>...</td>\n",
       "      <td>...</td>\n",
       "    </tr>\n",
       "    <tr>\n",
       "      <th>94</th>\n",
       "      <td>wmjb</td>\n",
       "      <td>-0.708014</td>\n",
       "      <td>0.000000</td>\n",
       "    </tr>\n",
       "    <tr>\n",
       "      <th>95</th>\n",
       "      <td>xodiumluma</td>\n",
       "      <td>-0.202941</td>\n",
       "      <td>0.580213</td>\n",
       "    </tr>\n",
       "    <tr>\n",
       "      <th>96</th>\n",
       "      <td>ნიკა</td>\n",
       "      <td>0.288961</td>\n",
       "      <td>0.424038</td>\n",
       "    </tr>\n",
       "    <tr>\n",
       "      <th>97</th>\n",
       "      <td>めら</td>\n",
       "      <td>0.078762</td>\n",
       "      <td>0.000000</td>\n",
       "    </tr>\n",
       "    <tr>\n",
       "      <th>98</th>\n",
       "      <td>🏴‍☠️</td>\n",
       "      <td>-0.657466</td>\n",
       "      <td>0.054730</td>\n",
       "    </tr>\n",
       "  </tbody>\n",
       "</table>\n",
       "<p>99 rows × 3 columns</p>\n",
       "</div>"
      ],
      "text/plain": [
       "                user  sentiment_received  sentiment_given\n",
       "0     57464bb4ebd6c0           -0.125374         0.000000\n",
       "1   Abdurrahim Cakar           -0.069116         0.000000\n",
       "2   Aeterne Satiatus           -0.071130        -0.262508\n",
       "3   Agostino Sarubbo           -0.147563        -0.351754\n",
       "4             Alcaro           -0.612008        -0.084132\n",
       "..               ...                 ...              ...\n",
       "94              wmjb           -0.708014         0.000000\n",
       "95        xodiumluma           -0.202941         0.580213\n",
       "96              ნიკა            0.288961         0.424038\n",
       "97                めら            0.078762         0.000000\n",
       "98             🏴‍☠️            -0.657466         0.054730\n",
       "\n",
       "[99 rows x 3 columns]"
      ]
     },
     "execution_count": 21,
     "metadata": {},
     "output_type": "execute_result"
    }
   ],
   "source": [
    "sentiment_df"
   ]
  },
  {
   "cell_type": "code",
   "execution_count": 22,
   "id": "162f5973-bbd2-4dda-9638-ca51b9bdb85d",
   "metadata": {},
   "outputs": [
    {
     "data": {
      "text/html": [
       "<div>\n",
       "<style scoped>\n",
       "    .dataframe tbody tr th:only-of-type {\n",
       "        vertical-align: middle;\n",
       "    }\n",
       "\n",
       "    .dataframe tbody tr th {\n",
       "        vertical-align: top;\n",
       "    }\n",
       "\n",
       "    .dataframe thead th {\n",
       "        text-align: right;\n",
       "    }\n",
       "</style>\n",
       "<table border=\"1\" class=\"dataframe\">\n",
       "  <thead>\n",
       "    <tr style=\"text-align: right;\">\n",
       "      <th></th>\n",
       "      <th>author_name</th>\n",
       "      <th>commit_count</th>\n",
       "    </tr>\n",
       "  </thead>\n",
       "  <tbody>\n",
       "    <tr>\n",
       "      <th>21</th>\n",
       "      <td>Lasse Collin</td>\n",
       "      <td>865</td>\n",
       "    </tr>\n",
       "    <tr>\n",
       "      <th>17</th>\n",
       "      <td>Jia Tan</td>\n",
       "      <td>450</td>\n",
       "    </tr>\n",
       "    <tr>\n",
       "      <th>26</th>\n",
       "      <td>Sam James</td>\n",
       "      <td>14</td>\n",
       "    </tr>\n",
       "    <tr>\n",
       "      <th>22</th>\n",
       "      <td>Maksym Vatsyk</td>\n",
       "      <td>5</td>\n",
       "    </tr>\n",
       "    <tr>\n",
       "      <th>13</th>\n",
       "      <td>Hans Jansen</td>\n",
       "      <td>5</td>\n",
       "    </tr>\n",
       "    <tr>\n",
       "      <th>19</th>\n",
       "      <td>Kelvin Lee</td>\n",
       "      <td>5</td>\n",
       "    </tr>\n",
       "    <tr>\n",
       "      <th>18</th>\n",
       "      <td>Julien Marrec</td>\n",
       "      <td>3</td>\n",
       "    </tr>\n",
       "    <tr>\n",
       "      <th>11</th>\n",
       "      <td>Gabriela Gutierrez</td>\n",
       "      <td>3</td>\n",
       "    </tr>\n",
       "    <tr>\n",
       "      <th>5</th>\n",
       "      <td>Bjarni Ingi Gislason</td>\n",
       "      <td>3</td>\n",
       "    </tr>\n",
       "    <tr>\n",
       "      <th>20</th>\n",
       "      <td>Kian-Meng Ang</td>\n",
       "      <td>2</td>\n",
       "    </tr>\n",
       "  </tbody>\n",
       "</table>\n",
       "</div>"
      ],
      "text/plain": [
       "             author_name  commit_count\n",
       "21          Lasse Collin           865\n",
       "17               Jia Tan           450\n",
       "26             Sam James            14\n",
       "22         Maksym Vatsyk             5\n",
       "13           Hans Jansen             5\n",
       "19            Kelvin Lee             5\n",
       "18         Julien Marrec             3\n",
       "11    Gabriela Gutierrez             3\n",
       "5   Bjarni Ingi Gislason             3\n",
       "20         Kian-Meng Ang             2"
      ]
     },
     "execution_count": 22,
     "metadata": {},
     "output_type": "execute_result"
    }
   ],
   "source": [
    "top_committers"
   ]
  },
  {
   "cell_type": "code",
   "execution_count": null,
   "id": "393ce3c4-d990-4384-9992-95bfc12de1db",
   "metadata": {},
   "outputs": [],
   "source": []
  }
 ],
 "metadata": {
  "kernelspec": {
   "display_name": "venv",
   "language": "python",
   "name": "python3"
  },
  "language_info": {
   "codemirror_mode": {
    "name": "ipython",
    "version": 3
   },
   "file_extension": ".py",
   "mimetype": "text/x-python",
   "name": "python",
   "nbconvert_exporter": "python",
   "pygments_lexer": "ipython3",
   "version": "3.9.13"
  }
 },
 "nbformat": 4,
 "nbformat_minor": 5
}
