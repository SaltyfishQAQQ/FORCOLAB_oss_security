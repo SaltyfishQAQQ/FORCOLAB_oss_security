{
 "cells": [
  {
   "cell_type": "code",
   "execution_count": 1,
   "id": "3283120e-8e04-4817-ae19-01c612d43d90",
   "metadata": {},
   "outputs": [],
   "source": [
    "import github_fetching as fetcher\n",
    "import data_cleaning as cleaner\n",
    "import sentiment_analysis as analyzer\n",
    "import visualization as visualizer\n",
    "import pandas as pd\n",
    "import matplotlib.pyplot as plt\n",
    "from IPython.display import display, HTML, IFrame"
   ]
  },
  {
   "cell_type": "code",
   "execution_count": 2,
   "id": "7ea22a2a-c48d-43d0-82c4-df3e432576c4",
   "metadata": {},
   "outputs": [],
   "source": [
    "xz_folder = 'tukaani-project_xz/'"
   ]
  },
  {
   "cell_type": "code",
   "execution_count": null,
   "id": "c9d89b29-f483-43cc-98b7-110eb2b6260b",
   "metadata": {},
   "outputs": [],
   "source": [
    "issue_pr_location = fetcher.fetch_issues_pr(folder_location = xz_folder)\n"
   ]
  },
  {
   "cell_type": "code",
   "execution_count": 3,
   "id": "9532282f",
   "metadata": {},
   "outputs": [
    {
     "ename": "NameError",
     "evalue": "name 'issue_pr_location' is not defined",
     "output_type": "error",
     "traceback": [
      "\u001b[1;31m---------------------------------------------------------------------------\u001b[0m",
      "\u001b[1;31mNameError\u001b[0m                                 Traceback (most recent call last)",
      "Cell \u001b[1;32mIn[3], line 1\u001b[0m\n\u001b[1;32m----> 1\u001b[0m cleaner\u001b[38;5;241m.\u001b[39mclean_thread(\u001b[43missue_pr_location\u001b[49m)\n",
      "\u001b[1;31mNameError\u001b[0m: name 'issue_pr_location' is not defined"
     ]
    }
   ],
   "source": [
    "cleaner.clean_thread(issue_pr_location)"
   ]
  },
  {
   "cell_type": "code",
   "execution_count": null,
   "id": "fb03ddf0-237c-42a6-bbe9-34e1a85d19c6",
   "metadata": {},
   "outputs": [],
   "source": [
    "contribution_df = cleaner.calculate_author_contributions()\n",
    "print(contribution_df.describe())\n",
    "contribution_df"
   ]
  },
  {
   "cell_type": "code",
   "execution_count": null,
   "id": "e948d4a3-81fd-4257-936c-8061224a060c",
   "metadata": {},
   "outputs": [],
   "source": [
    "post_sentiment_results = analyzer.post_sentiment_analysis()"
   ]
  },
  {
   "cell_type": "code",
   "execution_count": 4,
   "id": "f11d5b4d-7ee5-4bf0-96e0-736369a1f67b",
   "metadata": {},
   "outputs": [
    {
     "name": "stdout",
     "output_type": "stream",
     "text": [
      "Running sentence-level sentiment analysis...\n",
      "Sentence-level sentiment analysis done on 85 posts.\n",
      "\n",
      "Now cleaning user interactions...\n",
      "Done cleaning for user interactions\n",
      "Now fetching GitHub usernames\n",
      "Error: Unable to fetch data for username '57464bb4ebd6c0'. Status code: 404\n",
      "Error: Unable to fetch data for username 'XZ_5'. Status code: 404\n",
      "Error: Unable to fetch data for username 'f43a0e5ff2bd294095638e18286ca9a3d1956744'. Status code: 404\n",
      "Error: Unable to fetch data for username 'XZ_5'. Status code: 404\n",
      "Error: Unable to fetch data for username 'XZ_5'. Status code: 404\n",
      "Error: Unable to fetch data for username 'lists'. Status code: 404\n",
      "Error: Unable to fetch data for username 'awork3'. Status code: 404\n",
      "Error: Unable to fetch data for username 'vfazio2'. Status code: 404\n",
      "Error: Unable to fetch data for username 'XZ_5'. Status code: 404\n",
      "Error: Unable to fetch data for username 'BAR_1'. Status code: 404\n",
      "Error: Unable to fetch data for username '81800000'. Status code: 404\n",
      "Error: Unable to fetch data for username '83c00000'. Status code: 404\n",
      "Error: Unable to fetch data for username 'linux'. Status code: 404\n",
      "Error: Unable to fetch data for username 'mvatsyk'. Status code: 404\n",
      "Error: Unable to fetch data for username 'mvatsyk'. Status code: 404\n",
      "Error: Unable to fetch data for username 'kunpeng920'. Status code: 404\n",
      "Error: Unable to fetch data for username 'XZ_5'. Status code: 404\n",
      "Error: Unable to fetch data for username 'lzma_decode'. Status code: 404\n",
      "Done GitHub username fetching\n",
      "\n",
      "Now constructing individual conversations\n",
      "Skipping file Luis_Carilla_Ternero_to_Ari_Archer_(migrated_to_https://git.ari.lt/ari).csv due to error: Cannot save file into a non-existent directory: 'tukaani-project_xz\\individual_conversations\\Luis_Carilla_Ternero_to_Ari_Archer_(migrated_to_https:\\git.ari.lt'\n",
      "Skipping file Ari_Archer_(migrated_to_https://git.ari.lt/ari)_to_Luis_Carilla_Ternero.csv due to error: Cannot save file into a non-existent directory: 'tukaani-project_xz\\individual_conversations\\Ari_Archer_(migrated_to_https:\\git.ari.lt'\n",
      "Skipping file Ari_Archer_(migrated_to_https://git.ari.lt/ari)_to_Tuukka_Rouhiainen.csv due to error: Cannot save file into a non-existent directory: 'tukaani-project_xz\\individual_conversations\\Ari_Archer_(migrated_to_https:\\git.ari.lt'\n",
      "Individual CSV files have been created.\n"
     ]
    }
   ],
   "source": [
    "user_interactions = analyzer.sentence_sentiment_analysis()"
   ]
  },
  {
   "cell_type": "code",
   "execution_count": 5,
   "id": "47a20f7e",
   "metadata": {},
   "outputs": [
    {
     "data": {
      "text/html": [
       "<div>\n",
       "<style scoped>\n",
       "    .dataframe tbody tr th:only-of-type {\n",
       "        vertical-align: middle;\n",
       "    }\n",
       "\n",
       "    .dataframe tbody tr th {\n",
       "        vertical-align: top;\n",
       "    }\n",
       "\n",
       "    .dataframe thead th {\n",
       "        text-align: right;\n",
       "    }\n",
       "</style>\n",
       "<table border=\"1\" class=\"dataframe\">\n",
       "  <thead>\n",
       "    <tr style=\"text-align: right;\">\n",
       "      <th></th>\n",
       "      <th>from</th>\n",
       "      <th>to</th>\n",
       "      <th>positive</th>\n",
       "      <th>neutral</th>\n",
       "      <th>negative</th>\n",
       "    </tr>\n",
       "  </thead>\n",
       "  <tbody>\n",
       "    <tr>\n",
       "      <th>1</th>\n",
       "      <td>David Chalmers</td>\n",
       "      <td>José</td>\n",
       "      <td>[]</td>\n",
       "      <td>[]</td>\n",
       "      <td>[{'message': 'You... want the malicious threat...</td>\n",
       "    </tr>\n",
       "    <tr>\n",
       "      <th>3</th>\n",
       "      <td>José</td>\n",
       "      <td>David Chalmers</td>\n",
       "      <td>[{'message': '@AffSeda @Theldus oh fuck, you a...</td>\n",
       "      <td>[]</td>\n",
       "      <td>[]</td>\n",
       "    </tr>\n",
       "    <tr>\n",
       "      <th>11</th>\n",
       "      <td>Renaud Lepage</td>\n",
       "      <td>Lasse Collin</td>\n",
       "      <td>[]</td>\n",
       "      <td>[{'message': 'Copying my comment over on the c...</td>\n",
       "      <td>[]</td>\n",
       "    </tr>\n",
       "    <tr>\n",
       "      <th>12</th>\n",
       "      <td>Lasse Collin</td>\n",
       "      <td>Renaud Lepage</td>\n",
       "      <td>[]</td>\n",
       "      <td>[{'message': 'So someone could fork the reposi...</td>\n",
       "      <td>[]</td>\n",
       "    </tr>\n",
       "    <tr>\n",
       "      <th>16</th>\n",
       "      <td>Ben Boeckel</td>\n",
       "      <td>Eli Schwartz</td>\n",
       "      <td>[]</td>\n",
       "      <td>[{'message': 'You can also merge locally, sign...</td>\n",
       "      <td>[{'message': 'If history is rewritten[^rewrite...</td>\n",
       "    </tr>\n",
       "    <tr>\n",
       "      <th>...</th>\n",
       "      <td>...</td>\n",
       "      <td>...</td>\n",
       "      <td>...</td>\n",
       "      <td>...</td>\n",
       "      <td>...</td>\n",
       "    </tr>\n",
       "    <tr>\n",
       "      <th>412</th>\n",
       "      <td>Joshua Peisach</td>\n",
       "      <td>None</td>\n",
       "      <td>[]</td>\n",
       "      <td>[]</td>\n",
       "      <td>[{'message': 'Honestly, might be best to rever...</td>\n",
       "    </tr>\n",
       "    <tr>\n",
       "      <th>419</th>\n",
       "      <td>Luis Carilla Ternero</td>\n",
       "      <td>Ari Archer (migrated to https://git.ari.lt/ari)</td>\n",
       "      <td>[{'message': 'also LGTM based on what i know s...</td>\n",
       "      <td>[{'message': '@TruncatedDinoSour your a mainta...</td>\n",
       "      <td>[]</td>\n",
       "    </tr>\n",
       "    <tr>\n",
       "      <th>420</th>\n",
       "      <td>Ari Archer (migrated to https://git.ari.lt/ari)</td>\n",
       "      <td>Luis Carilla Ternero</td>\n",
       "      <td>[]</td>\n",
       "      <td>[{'message': '\n",
       "yeah, if anything we can fix la...</td>\n",
       "      <td>[]</td>\n",
       "    </tr>\n",
       "    <tr>\n",
       "      <th>421</th>\n",
       "      <td>Ari Archer (migrated to https://git.ari.lt/ari)</td>\n",
       "      <td>Tuukka Rouhiainen</td>\n",
       "      <td>[]</td>\n",
       "      <td>[{'message': '\n",
       "i'm not, i'm just trying to be ...</td>\n",
       "      <td>[]</td>\n",
       "    </tr>\n",
       "    <tr>\n",
       "      <th>425</th>\n",
       "      <td>🏴‍☠️</td>\n",
       "      <td>None</td>\n",
       "      <td>[]</td>\n",
       "      <td>[]</td>\n",
       "      <td>[{'message': '@Alcaro You win a -LoC award in ...</td>\n",
       "    </tr>\n",
       "  </tbody>\n",
       "</table>\n",
       "<p>226 rows × 5 columns</p>\n",
       "</div>"
      ],
      "text/plain": [
       "                                                from  \\\n",
       "1                                     David Chalmers   \n",
       "3                                               José   \n",
       "11                                     Renaud Lepage   \n",
       "12                                      Lasse Collin   \n",
       "16                                       Ben Boeckel   \n",
       "..                                               ...   \n",
       "412                                   Joshua Peisach   \n",
       "419                             Luis Carilla Ternero   \n",
       "420  Ari Archer (migrated to https://git.ari.lt/ari)   \n",
       "421  Ari Archer (migrated to https://git.ari.lt/ari)   \n",
       "425                                            🏴‍☠️    \n",
       "\n",
       "                                                  to  \\\n",
       "1                                               José   \n",
       "3                                     David Chalmers   \n",
       "11                                      Lasse Collin   \n",
       "12                                     Renaud Lepage   \n",
       "16                                      Eli Schwartz   \n",
       "..                                               ...   \n",
       "412                                             None   \n",
       "419  Ari Archer (migrated to https://git.ari.lt/ari)   \n",
       "420                             Luis Carilla Ternero   \n",
       "421                                Tuukka Rouhiainen   \n",
       "425                                             None   \n",
       "\n",
       "                                              positive  \\\n",
       "1                                                   []   \n",
       "3    [{'message': '@AffSeda @Theldus oh fuck, you a...   \n",
       "11                                                  []   \n",
       "12                                                  []   \n",
       "16                                                  []   \n",
       "..                                                 ...   \n",
       "412                                                 []   \n",
       "419  [{'message': 'also LGTM based on what i know s...   \n",
       "420                                                 []   \n",
       "421                                                 []   \n",
       "425                                                 []   \n",
       "\n",
       "                                               neutral  \\\n",
       "1                                                   []   \n",
       "3                                                   []   \n",
       "11   [{'message': 'Copying my comment over on the c...   \n",
       "12   [{'message': 'So someone could fork the reposi...   \n",
       "16   [{'message': 'You can also merge locally, sign...   \n",
       "..                                                 ...   \n",
       "412                                                 []   \n",
       "419  [{'message': '@TruncatedDinoSour your a mainta...   \n",
       "420  [{'message': '\n",
       "yeah, if anything we can fix la...   \n",
       "421  [{'message': '\n",
       "i'm not, i'm just trying to be ...   \n",
       "425                                                 []   \n",
       "\n",
       "                                              negative  \n",
       "1    [{'message': 'You... want the malicious threat...  \n",
       "3                                                   []  \n",
       "11                                                  []  \n",
       "12                                                  []  \n",
       "16   [{'message': 'If history is rewritten[^rewrite...  \n",
       "..                                                 ...  \n",
       "412  [{'message': 'Honestly, might be best to rever...  \n",
       "419                                                 []  \n",
       "420                                                 []  \n",
       "421                                                 []  \n",
       "425  [{'message': '@Alcaro You win a -LoC award in ...  \n",
       "\n",
       "[226 rows x 5 columns]"
      ]
     },
     "execution_count": 5,
     "metadata": {},
     "output_type": "execute_result"
    }
   ],
   "source": [
    "user_interactions = pd.DataFrame(user_interactions)\n",
    "user_interactions"
   ]
  },
  {
   "cell_type": "code",
   "execution_count": null,
   "id": "bfc89ded-7dc8-4747-b373-b4b14ff89316",
   "metadata": {},
   "outputs": [],
   "source": [
    "user_interactions = pd.DataFrame(user_interactions)\n",
    "graph_path = visualizer.generate_network(xz_folder, user_interactions, 'network_graph.html', 1)"
   ]
  },
  {
   "cell_type": "code",
   "execution_count": null,
   "id": "f1282326-366c-430a-b0c4-106864fd1f04",
   "metadata": {},
   "outputs": [],
   "source": [
    "visualizer.post_analysis_visualization(post_sentiment_results)"
   ]
  },
  {
   "cell_type": "code",
   "execution_count": null,
   "id": "6732fd8a-ccef-45d8-a5e3-3c2c6fba1d65",
   "metadata": {},
   "outputs": [],
   "source": [
    "visualizer.show_graph(graph_path)"
   ]
  },
  {
   "cell_type": "code",
   "execution_count": null,
   "id": "a5cad2ea-9ccd-4d26-802a-1f35fc4f361f",
   "metadata": {},
   "outputs": [],
   "source": [
    "commit_df = fetcher.fetch_commit_info(folder_location = xz_folder)\n",
    "top_committers = fetcher.get_top_committers(commit_df)"
   ]
  },
  {
   "cell_type": "code",
   "execution_count": null,
   "id": "9f95b623-6455-4b0a-9fb2-b9da2fd568aa",
   "metadata": {},
   "outputs": [],
   "source": [
    "top_committers"
   ]
  },
  {
   "cell_type": "code",
   "execution_count": null,
   "id": "27d2c27e-b06d-4257-8ef3-0501300c1f35",
   "metadata": {},
   "outputs": [],
   "source": [
    "sentiment_df = analyzer.track_sentiment_given_and_received(user_interaction_df=user_interactions)"
   ]
  },
  {
   "cell_type": "code",
   "execution_count": null,
   "id": "b36743b1-30d8-4780-8bde-9f94d83670b7",
   "metadata": {},
   "outputs": [],
   "source": [
    "threat_df = analyzer.identify_threat(sentiment_df, top_committers)"
   ]
  },
  {
   "cell_type": "code",
   "execution_count": null,
   "id": "088ae41a-acb4-4996-abad-c4a549dcf53e",
   "metadata": {},
   "outputs": [],
   "source": [
    "threat_df"
   ]
  },
  {
   "cell_type": "code",
   "execution_count": null,
   "id": "80ffdf16-5870-4860-8b2d-b40708cce35c",
   "metadata": {},
   "outputs": [],
   "source": [
    "sentiment_df = sentiment_df[['user', 'sentiment_received', 'sentiment_given']]"
   ]
  },
  {
   "cell_type": "code",
   "execution_count": null,
   "id": "f5be0ab0-ca0d-4904-b4fb-67b3fa2b0cbb",
   "metadata": {},
   "outputs": [],
   "source": [
    "sentiment_df"
   ]
  },
  {
   "cell_type": "code",
   "execution_count": null,
   "id": "162f5973-bbd2-4dda-9638-ca51b9bdb85d",
   "metadata": {},
   "outputs": [],
   "source": [
    "top_committers"
   ]
  },
  {
   "cell_type": "code",
   "execution_count": null,
   "id": "393ce3c4-d990-4384-9992-95bfc12de1db",
   "metadata": {},
   "outputs": [],
   "source": []
  }
 ],
 "metadata": {
  "kernelspec": {
   "display_name": "Python 3",
   "language": "python",
   "name": "python3"
  },
  "language_info": {
   "codemirror_mode": {
    "name": "ipython",
    "version": 3
   },
   "file_extension": ".py",
   "mimetype": "text/x-python",
   "name": "python",
   "nbconvert_exporter": "python",
   "pygments_lexer": "ipython3",
   "version": "3.9.13"
  }
 },
 "nbformat": 4,
 "nbformat_minor": 5
}
