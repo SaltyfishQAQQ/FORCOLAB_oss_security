{
 "cells": [
  {
   "cell_type": "code",
   "execution_count": 3,
   "metadata": {},
   "outputs": [],
   "source": [
    "import os\n",
    "import requests\n",
    "import pandas as pd"
   ]
  },
  {
   "cell_type": "code",
   "execution_count": 4,
   "metadata": {},
   "outputs": [],
   "source": [
    "GITHUB_TOKEN = os.getenv(\"GITHUB_PERSONAL_ACCESS_TOKEN\")  \n",
    "headers = {\n",
    "    \"Authorization\": f\"Bearer {GITHUB_TOKEN}\",\n",
    "    \"Accept\": \"application/vnd.github+json\"\n",
    "}"
   ]
  },
  {
   "cell_type": "code",
   "execution_count": null,
   "metadata": {},
   "outputs": [],
   "source": [
    "stars = \"500..1000\"\n",
    "forks = \">100\"\n",
    "pushed = \">2025-02-27\"\n",
    "created = \"<2013-01-01\"\n",
    "keyword = \"lib\"\n",
    "in_qualifiers = \"\"\n",
    "\n",
    "query = f\"{keyword} in: {in_qualifiers} created:{created} stars:{stars} forks:{forks} pushed:{pushed} mirror:false\"\n",
    "url = \"https://api.github.com/search/repositories\"\n",
    "params = {\n",
    "    \"q\": query,\n",
    "    \"sort\": \"stars\",\n",
    "    \"order\": \"desc\",\n",
    "    \"per_page\": 100  # Max 100\n",
    "}"
   ]
  },
  {
   "cell_type": "code",
   "execution_count": 6,
   "metadata": {},
   "outputs": [
    {
     "name": "stdout",
     "output_type": "stream",
     "text": [
      "Collected 8 repositories\n"
     ]
    }
   ],
   "source": [
    "response = requests.get(url, headers=headers, params=params)\n",
    "\n",
    "if response.status_code == 200:\n",
    "    items = response.json()[\"items\"]\n",
    "    data = [\n",
    "        {\n",
    "            \"Repo Name\": item[\"full_name\"],\n",
    "            \"Stars\": item[\"stargazers_count\"],\n",
    "            \"Forks\": item[\"forks_count\"],\n",
    "            \"Link\": item[\"html_url\"]\n",
    "        }\n",
    "        for item in items\n",
    "    ]\n",
    "    df = pd.DataFrame(data)\n",
    "    print(f\"Collected {df.shape[0]} repositories\")\n",
    "else:\n",
    "    print(f\"Error {response.status_code}: {response.json()}\")"
   ]
  },
  {
   "cell_type": "code",
   "execution_count": 7,
   "metadata": {},
   "outputs": [
    {
     "data": {
      "text/html": [
       "<div>\n",
       "<style scoped>\n",
       "    .dataframe tbody tr th:only-of-type {\n",
       "        vertical-align: middle;\n",
       "    }\n",
       "\n",
       "    .dataframe tbody tr th {\n",
       "        vertical-align: top;\n",
       "    }\n",
       "\n",
       "    .dataframe thead th {\n",
       "        text-align: right;\n",
       "    }\n",
       "</style>\n",
       "<table border=\"1\" class=\"dataframe\">\n",
       "  <thead>\n",
       "    <tr style=\"text-align: right;\">\n",
       "      <th></th>\n",
       "      <th>Repo Name</th>\n",
       "      <th>Stars</th>\n",
       "      <th>Forks</th>\n",
       "      <th>Link</th>\n",
       "    </tr>\n",
       "  </thead>\n",
       "  <tbody>\n",
       "    <tr>\n",
       "      <th>0</th>\n",
       "      <td>lpereira/hardinfo</td>\n",
       "      <td>779</td>\n",
       "      <td>131</td>\n",
       "      <td>https://github.com/lpereira/hardinfo</td>\n",
       "    </tr>\n",
       "    <tr>\n",
       "      <th>1</th>\n",
       "      <td>rime/ibus-rime</td>\n",
       "      <td>774</td>\n",
       "      <td>106</td>\n",
       "      <td>https://github.com/rime/ibus-rime</td>\n",
       "    </tr>\n",
       "    <tr>\n",
       "      <th>2</th>\n",
       "      <td>libplctag/libplctag</td>\n",
       "      <td>743</td>\n",
       "      <td>240</td>\n",
       "      <td>https://github.com/libplctag/libplctag</td>\n",
       "    </tr>\n",
       "    <tr>\n",
       "      <th>3</th>\n",
       "      <td>uroni/urbackup_backend</td>\n",
       "      <td>704</td>\n",
       "      <td>150</td>\n",
       "      <td>https://github.com/uroni/urbackup_backend</td>\n",
       "    </tr>\n",
       "    <tr>\n",
       "      <th>4</th>\n",
       "      <td>tcltk/tcl</td>\n",
       "      <td>702</td>\n",
       "      <td>198</td>\n",
       "      <td>https://github.com/tcltk/tcl</td>\n",
       "    </tr>\n",
       "    <tr>\n",
       "      <th>5</th>\n",
       "      <td>cping/LGame</td>\n",
       "      <td>667</td>\n",
       "      <td>172</td>\n",
       "      <td>https://github.com/cping/LGame</td>\n",
       "    </tr>\n",
       "    <tr>\n",
       "      <th>6</th>\n",
       "      <td>gregkh/kernel-development</td>\n",
       "      <td>631</td>\n",
       "      <td>128</td>\n",
       "      <td>https://github.com/gregkh/kernel-development</td>\n",
       "    </tr>\n",
       "    <tr>\n",
       "      <th>7</th>\n",
       "      <td>rhash/RHash</td>\n",
       "      <td>604</td>\n",
       "      <td>121</td>\n",
       "      <td>https://github.com/rhash/RHash</td>\n",
       "    </tr>\n",
       "  </tbody>\n",
       "</table>\n",
       "</div>"
      ],
      "text/plain": [
       "                   Repo Name  Stars  Forks  \\\n",
       "0          lpereira/hardinfo    779    131   \n",
       "1             rime/ibus-rime    774    106   \n",
       "2        libplctag/libplctag    743    240   \n",
       "3     uroni/urbackup_backend    704    150   \n",
       "4                  tcltk/tcl    702    198   \n",
       "5                cping/LGame    667    172   \n",
       "6  gregkh/kernel-development    631    128   \n",
       "7                rhash/RHash    604    121   \n",
       "\n",
       "                                           Link  \n",
       "0          https://github.com/lpereira/hardinfo  \n",
       "1             https://github.com/rime/ibus-rime  \n",
       "2        https://github.com/libplctag/libplctag  \n",
       "3     https://github.com/uroni/urbackup_backend  \n",
       "4                  https://github.com/tcltk/tcl  \n",
       "5                https://github.com/cping/LGame  \n",
       "6  https://github.com/gregkh/kernel-development  \n",
       "7                https://github.com/rhash/RHash  "
      ]
     },
     "execution_count": 7,
     "metadata": {},
     "output_type": "execute_result"
    }
   ],
   "source": [
    "df"
   ]
  },
  {
   "cell_type": "code",
   "execution_count": null,
   "metadata": {},
   "outputs": [],
   "source": [
    "l"
   ]
  },
  {
   "cell_type": "code",
   "execution_count": null,
   "metadata": {},
   "outputs": [],
   "source": []
  }
 ],
 "metadata": {
  "kernelspec": {
   "display_name": "3.10.16",
   "language": "python",
   "name": "python3"
  },
  "language_info": {
   "codemirror_mode": {
    "name": "ipython",
    "version": 3
   },
   "file_extension": ".py",
   "mimetype": "text/x-python",
   "name": "python",
   "nbconvert_exporter": "python",
   "pygments_lexer": "ipython3",
   "version": "3.10.16"
  }
 },
 "nbformat": 4,
 "nbformat_minor": 2
}
